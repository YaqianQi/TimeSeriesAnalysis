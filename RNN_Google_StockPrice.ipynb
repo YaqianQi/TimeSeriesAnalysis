{
 "cells": [
  {
   "cell_type": "code",
   "execution_count": 1,
   "metadata": {},
   "outputs": [],
   "source": [
    "############# LSTM"
   ]
  },
  {
   "cell_type": "code",
   "execution_count": 97,
   "metadata": {},
   "outputs": [
    {
     "data": {
      "text/html": [
       "<div>\n",
       "<style scoped>\n",
       "    .dataframe tbody tr th:only-of-type {\n",
       "        vertical-align: middle;\n",
       "    }\n",
       "\n",
       "    .dataframe tbody tr th {\n",
       "        vertical-align: top;\n",
       "    }\n",
       "\n",
       "    .dataframe thead th {\n",
       "        text-align: right;\n",
       "    }\n",
       "</style>\n",
       "<table border=\"1\" class=\"dataframe\">\n",
       "  <thead>\n",
       "    <tr style=\"text-align: right;\">\n",
       "      <th></th>\n",
       "      <th>ticker</th>\n",
       "      <th>date</th>\n",
       "      <th>adj_close</th>\n",
       "    </tr>\n",
       "  </thead>\n",
       "  <tbody>\n",
       "    <tr>\n",
       "      <th>0</th>\n",
       "      <td>GOOGL</td>\n",
       "      <td>2014-12-31</td>\n",
       "      <td>530.66</td>\n",
       "    </tr>\n",
       "    <tr>\n",
       "      <th>1</th>\n",
       "      <td>GOOGL</td>\n",
       "      <td>2015-01-02</td>\n",
       "      <td>529.55</td>\n",
       "    </tr>\n",
       "    <tr>\n",
       "      <th>2</th>\n",
       "      <td>GOOGL</td>\n",
       "      <td>2015-01-05</td>\n",
       "      <td>519.46</td>\n",
       "    </tr>\n",
       "    <tr>\n",
       "      <th>3</th>\n",
       "      <td>GOOGL</td>\n",
       "      <td>2015-01-06</td>\n",
       "      <td>506.64</td>\n",
       "    </tr>\n",
       "    <tr>\n",
       "      <th>4</th>\n",
       "      <td>GOOGL</td>\n",
       "      <td>2015-01-07</td>\n",
       "      <td>505.15</td>\n",
       "    </tr>\n",
       "  </tbody>\n",
       "</table>\n",
       "</div>"
      ],
      "text/plain": [
       "  ticker       date  adj_close\n",
       "0  GOOGL 2014-12-31     530.66\n",
       "1  GOOGL 2015-01-02     529.55\n",
       "2  GOOGL 2015-01-05     519.46\n",
       "3  GOOGL 2015-01-06     506.64\n",
       "4  GOOGL 2015-01-07     505.15"
      ]
     },
     "execution_count": 97,
     "metadata": {},
     "output_type": "execute_result"
    }
   ],
   "source": [
    "import quandl\n",
    "quandl.ApiConfig.api_key = 'ik6y9JyGpmnDBkJjiF2Y'\n",
    "\n",
    "# get the table for daily stock prices and,\n",
    "# filter the table for selected tickers, columns within a time range\n",
    "# set paginate to True because Quandl limits tables API to 10,000 rows per call\n",
    "data = quandl.get_table('WIKI/PRICES', ticker = ['GOOGL'], \n",
    "                        qopts = { 'columns': ['ticker', 'date', 'adj_close'] }, \n",
    "                        date = { 'gte': '2014-12-31', 'lte': '2018-3-21' }, \n",
    "                        paginate=True)\n",
    "data = data.sort_values(by='date', ascending=True)\n",
    "data = data.reset_index(drop = True)\n",
    "data.head()"
   ]
  },
  {
   "cell_type": "code",
   "execution_count": 118,
   "metadata": {},
   "outputs": [],
   "source": [
    "data.to_excel('Google_2014-12-31_to_2018-3-21.xlsx')"
   ]
  },
  {
   "cell_type": "code",
   "execution_count": 98,
   "metadata": {},
   "outputs": [],
   "source": [
    "pred_days = 15"
   ]
  },
  {
   "cell_type": "code",
   "execution_count": 99,
   "metadata": {},
   "outputs": [
    {
     "data": {
      "text/html": [
       "<div>\n",
       "<style scoped>\n",
       "    .dataframe tbody tr th:only-of-type {\n",
       "        vertical-align: middle;\n",
       "    }\n",
       "\n",
       "    .dataframe tbody tr th {\n",
       "        vertical-align: top;\n",
       "    }\n",
       "\n",
       "    .dataframe thead th {\n",
       "        text-align: right;\n",
       "    }\n",
       "</style>\n",
       "<table border=\"1\" class=\"dataframe\">\n",
       "  <thead>\n",
       "    <tr style=\"text-align: right;\">\n",
       "      <th></th>\n",
       "      <th>ticker</th>\n",
       "      <th>date</th>\n",
       "      <th>adj_close</th>\n",
       "    </tr>\n",
       "  </thead>\n",
       "  <tbody>\n",
       "    <tr>\n",
       "      <th>795</th>\n",
       "      <td>GOOGL</td>\n",
       "      <td>2018-03-01</td>\n",
       "      <td>1071.41</td>\n",
       "    </tr>\n",
       "    <tr>\n",
       "      <th>796</th>\n",
       "      <td>GOOGL</td>\n",
       "      <td>2018-03-02</td>\n",
       "      <td>1084.14</td>\n",
       "    </tr>\n",
       "    <tr>\n",
       "      <th>797</th>\n",
       "      <td>GOOGL</td>\n",
       "      <td>2018-03-05</td>\n",
       "      <td>1094.76</td>\n",
       "    </tr>\n",
       "    <tr>\n",
       "      <th>798</th>\n",
       "      <td>GOOGL</td>\n",
       "      <td>2018-03-06</td>\n",
       "      <td>1100.90</td>\n",
       "    </tr>\n",
       "    <tr>\n",
       "      <th>799</th>\n",
       "      <td>GOOGL</td>\n",
       "      <td>2018-03-07</td>\n",
       "      <td>1115.04</td>\n",
       "    </tr>\n",
       "    <tr>\n",
       "      <th>800</th>\n",
       "      <td>GOOGL</td>\n",
       "      <td>2018-03-08</td>\n",
       "      <td>1129.38</td>\n",
       "    </tr>\n",
       "    <tr>\n",
       "      <th>801</th>\n",
       "      <td>GOOGL</td>\n",
       "      <td>2018-03-09</td>\n",
       "      <td>1160.84</td>\n",
       "    </tr>\n",
       "    <tr>\n",
       "      <th>802</th>\n",
       "      <td>GOOGL</td>\n",
       "      <td>2018-03-12</td>\n",
       "      <td>1165.93</td>\n",
       "    </tr>\n",
       "    <tr>\n",
       "      <th>803</th>\n",
       "      <td>GOOGL</td>\n",
       "      <td>2018-03-13</td>\n",
       "      <td>1139.91</td>\n",
       "    </tr>\n",
       "    <tr>\n",
       "      <th>804</th>\n",
       "      <td>GOOGL</td>\n",
       "      <td>2018-03-14</td>\n",
       "      <td>1148.89</td>\n",
       "    </tr>\n",
       "    <tr>\n",
       "      <th>805</th>\n",
       "      <td>GOOGL</td>\n",
       "      <td>2018-03-15</td>\n",
       "      <td>1150.61</td>\n",
       "    </tr>\n",
       "    <tr>\n",
       "      <th>806</th>\n",
       "      <td>GOOGL</td>\n",
       "      <td>2018-03-16</td>\n",
       "      <td>1134.42</td>\n",
       "    </tr>\n",
       "    <tr>\n",
       "      <th>807</th>\n",
       "      <td>GOOGL</td>\n",
       "      <td>2018-03-19</td>\n",
       "      <td>1100.07</td>\n",
       "    </tr>\n",
       "    <tr>\n",
       "      <th>808</th>\n",
       "      <td>GOOGL</td>\n",
       "      <td>2018-03-20</td>\n",
       "      <td>1095.80</td>\n",
       "    </tr>\n",
       "    <tr>\n",
       "      <th>809</th>\n",
       "      <td>GOOGL</td>\n",
       "      <td>2018-03-21</td>\n",
       "      <td>1094.00</td>\n",
       "    </tr>\n",
       "  </tbody>\n",
       "</table>\n",
       "</div>"
      ],
      "text/plain": [
       "    ticker       date  adj_close\n",
       "795  GOOGL 2018-03-01    1071.41\n",
       "796  GOOGL 2018-03-02    1084.14\n",
       "797  GOOGL 2018-03-05    1094.76\n",
       "798  GOOGL 2018-03-06    1100.90\n",
       "799  GOOGL 2018-03-07    1115.04\n",
       "800  GOOGL 2018-03-08    1129.38\n",
       "801  GOOGL 2018-03-09    1160.84\n",
       "802  GOOGL 2018-03-12    1165.93\n",
       "803  GOOGL 2018-03-13    1139.91\n",
       "804  GOOGL 2018-03-14    1148.89\n",
       "805  GOOGL 2018-03-15    1150.61\n",
       "806  GOOGL 2018-03-16    1134.42\n",
       "807  GOOGL 2018-03-19    1100.07\n",
       "808  GOOGL 2018-03-20    1095.80\n",
       "809  GOOGL 2018-03-21    1094.00"
      ]
     },
     "execution_count": 99,
     "metadata": {},
     "output_type": "execute_result"
    }
   ],
   "source": [
    "dataset_test = data.iloc[-pred_days:,:]\n",
    "dataset_test"
   ]
  },
  {
   "cell_type": "code",
   "execution_count": 100,
   "metadata": {},
   "outputs": [
    {
     "data": {
      "text/plain": [
       "Timestamp('2018-03-21 00:00:00')"
      ]
     },
     "execution_count": 100,
     "metadata": {},
     "output_type": "execute_result"
    }
   ],
   "source": [
    "data.date.max()"
   ]
  },
  {
   "cell_type": "code",
   "execution_count": 101,
   "metadata": {},
   "outputs": [
    {
     "data": {
      "text/plain": [
       "Timestamp('2014-12-31 00:00:00')"
      ]
     },
     "execution_count": 101,
     "metadata": {},
     "output_type": "execute_result"
    }
   ],
   "source": [
    "data.date.min()"
   ]
  },
  {
   "cell_type": "code",
   "execution_count": 102,
   "metadata": {},
   "outputs": [
    {
     "data": {
      "text/html": [
       "<div>\n",
       "<style scoped>\n",
       "    .dataframe tbody tr th:only-of-type {\n",
       "        vertical-align: middle;\n",
       "    }\n",
       "\n",
       "    .dataframe tbody tr th {\n",
       "        vertical-align: top;\n",
       "    }\n",
       "\n",
       "    .dataframe thead th {\n",
       "        text-align: right;\n",
       "    }\n",
       "</style>\n",
       "<table border=\"1\" class=\"dataframe\">\n",
       "  <thead>\n",
       "    <tr style=\"text-align: right;\">\n",
       "      <th></th>\n",
       "      <th>date</th>\n",
       "      <th>adj_close</th>\n",
       "    </tr>\n",
       "  </thead>\n",
       "  <tbody>\n",
       "    <tr>\n",
       "      <th>0</th>\n",
       "      <td>2014-12-31</td>\n",
       "      <td>530.66</td>\n",
       "    </tr>\n",
       "    <tr>\n",
       "      <th>1</th>\n",
       "      <td>2015-01-02</td>\n",
       "      <td>529.55</td>\n",
       "    </tr>\n",
       "    <tr>\n",
       "      <th>2</th>\n",
       "      <td>2015-01-05</td>\n",
       "      <td>519.46</td>\n",
       "    </tr>\n",
       "    <tr>\n",
       "      <th>3</th>\n",
       "      <td>2015-01-06</td>\n",
       "      <td>506.64</td>\n",
       "    </tr>\n",
       "    <tr>\n",
       "      <th>4</th>\n",
       "      <td>2015-01-07</td>\n",
       "      <td>505.15</td>\n",
       "    </tr>\n",
       "  </tbody>\n",
       "</table>\n",
       "</div>"
      ],
      "text/plain": [
       "        date  adj_close\n",
       "0 2014-12-31     530.66\n",
       "1 2015-01-02     529.55\n",
       "2 2015-01-05     519.46\n",
       "3 2015-01-06     506.64\n",
       "4 2015-01-07     505.15"
      ]
     },
     "execution_count": 102,
     "metadata": {},
     "output_type": "execute_result"
    }
   ],
   "source": [
    "dataset_train= data.iloc[:-pred_days,1:3]\n",
    "dataset_train.head()"
   ]
  },
  {
   "cell_type": "code",
   "execution_count": 103,
   "metadata": {},
   "outputs": [],
   "source": [
    "# Part 1 - Data Preprocessing\n",
    "\n",
    "# Importing the libraries\n",
    "import numpy as np\n",
    "import matplotlib.pyplot as plt\n",
    "import pandas as pd\n",
    "\n",
    "# Importing the training set\n",
    "#dataset_train = pd.read_csv('Google_Stock_Price_Train.csv')\n",
    "training_set = dataset_train.iloc[:, 1:2].values\n",
    "## only get training column open "
   ]
  },
  {
   "cell_type": "code",
   "execution_count": 104,
   "metadata": {},
   "outputs": [
    {
     "data": {
      "text/html": [
       "<div>\n",
       "<style scoped>\n",
       "    .dataframe tbody tr th:only-of-type {\n",
       "        vertical-align: middle;\n",
       "    }\n",
       "\n",
       "    .dataframe tbody tr th {\n",
       "        vertical-align: top;\n",
       "    }\n",
       "\n",
       "    .dataframe thead th {\n",
       "        text-align: right;\n",
       "    }\n",
       "</style>\n",
       "<table border=\"1\" class=\"dataframe\">\n",
       "  <thead>\n",
       "    <tr style=\"text-align: right;\">\n",
       "      <th></th>\n",
       "      <th>date</th>\n",
       "      <th>adj_close</th>\n",
       "    </tr>\n",
       "  </thead>\n",
       "  <tbody>\n",
       "    <tr>\n",
       "      <th>0</th>\n",
       "      <td>2014-12-31</td>\n",
       "      <td>530.66</td>\n",
       "    </tr>\n",
       "    <tr>\n",
       "      <th>1</th>\n",
       "      <td>2015-01-02</td>\n",
       "      <td>529.55</td>\n",
       "    </tr>\n",
       "    <tr>\n",
       "      <th>2</th>\n",
       "      <td>2015-01-05</td>\n",
       "      <td>519.46</td>\n",
       "    </tr>\n",
       "    <tr>\n",
       "      <th>3</th>\n",
       "      <td>2015-01-06</td>\n",
       "      <td>506.64</td>\n",
       "    </tr>\n",
       "    <tr>\n",
       "      <th>4</th>\n",
       "      <td>2015-01-07</td>\n",
       "      <td>505.15</td>\n",
       "    </tr>\n",
       "  </tbody>\n",
       "</table>\n",
       "</div>"
      ],
      "text/plain": [
       "        date  adj_close\n",
       "0 2014-12-31     530.66\n",
       "1 2015-01-02     529.55\n",
       "2 2015-01-05     519.46\n",
       "3 2015-01-06     506.64\n",
       "4 2015-01-07     505.15"
      ]
     },
     "execution_count": 104,
     "metadata": {},
     "output_type": "execute_result"
    }
   ],
   "source": [
    "dataset_train.head()"
   ]
  },
  {
   "cell_type": "code",
   "execution_count": 105,
   "metadata": {},
   "outputs": [
    {
     "data": {
      "text/plain": [
       "795"
      ]
     },
     "execution_count": 105,
     "metadata": {},
     "output_type": "execute_result"
    }
   ],
   "source": [
    "n = dataset_train.shape[0]\n",
    "n"
   ]
  },
  {
   "cell_type": "code",
   "execution_count": 106,
   "metadata": {},
   "outputs": [],
   "source": [
    "# Feature Scaling\n",
    "from sklearn.preprocessing import MinMaxScaler\n",
    "sc = MinMaxScaler(feature_range = (0, 1))\n",
    "training_set_scaled = sc.fit_transform(training_set)"
   ]
  },
  {
   "cell_type": "code",
   "execution_count": 107,
   "metadata": {},
   "outputs": [],
   "source": [
    "# Creating a data structure with 60 timesteps and 1 output\n",
    "######### slicing window \n",
    "X_train = []\n",
    "y_train = []\n",
    "for i in range(60, n):\n",
    "    X_train.append(training_set_scaled[i-60:i, 0])\n",
    "    y_train.append(training_set_scaled[i, 0])\n",
    "X_train, y_train = np.array(X_train), np.array(y_train)"
   ]
  },
  {
   "cell_type": "code",
   "execution_count": 108,
   "metadata": {},
   "outputs": [
    {
     "data": {
      "text/plain": [
       "735"
      ]
     },
     "execution_count": 108,
     "metadata": {},
     "output_type": "execute_result"
    }
   ],
   "source": [
    "X_train.shape[0]"
   ]
  },
  {
   "cell_type": "code",
   "execution_count": 109,
   "metadata": {},
   "outputs": [],
   "source": [
    "# Reshaping\n",
    "X_train = np.reshape(X_train, (X_train.shape[0], X_train.shape[1], 1))"
   ]
  },
  {
   "cell_type": "code",
   "execution_count": 110,
   "metadata": {
    "scrolled": true
   },
   "outputs": [
    {
     "name": "stdout",
     "output_type": "stream",
     "text": [
      "Epoch 1/100\n",
      "735/735 [==============================] - 7s 10ms/step - loss: 0.0590\n",
      "Epoch 2/100\n",
      "735/735 [==============================] - 4s 5ms/step - loss: 0.0084\n",
      "Epoch 3/100\n",
      "735/735 [==============================] - 4s 5ms/step - loss: 0.0055\n",
      "Epoch 4/100\n",
      "735/735 [==============================] - 4s 5ms/step - loss: 0.0052\n",
      "Epoch 5/100\n",
      "735/735 [==============================] - 4s 5ms/step - loss: 0.0044\n",
      "Epoch 6/100\n",
      "735/735 [==============================] - 4s 5ms/step - loss: 0.0047\n",
      "Epoch 7/100\n",
      "735/735 [==============================] - 4s 6ms/step - loss: 0.0076\n",
      "Epoch 8/100\n",
      "735/735 [==============================] - 4s 6ms/step - loss: 0.0052\n",
      "Epoch 9/100\n",
      "735/735 [==============================] - 4s 6ms/step - loss: 0.0047\n",
      "Epoch 10/100\n",
      "735/735 [==============================] - 5s 6ms/step - loss: 0.0043\n",
      "Epoch 11/100\n",
      "735/735 [==============================] - 4s 6ms/step - loss: 0.0045\n",
      "Epoch 12/100\n",
      "735/735 [==============================] - 4s 6ms/step - loss: 0.0043\n",
      "Epoch 13/100\n",
      "735/735 [==============================] - 4s 5ms/step - loss: 0.0042\n",
      "Epoch 14/100\n",
      "735/735 [==============================] - 4s 6ms/step - loss: 0.0042\n",
      "Epoch 15/100\n",
      "735/735 [==============================] - 4s 6ms/step - loss: 0.0043\n",
      "Epoch 16/100\n",
      "735/735 [==============================] - 4s 6ms/step - loss: 0.0040\n",
      "Epoch 17/100\n",
      "735/735 [==============================] - 4s 6ms/step - loss: 0.0045\n",
      "Epoch 18/100\n",
      "735/735 [==============================] - 4s 6ms/step - loss: 0.0041\n",
      "Epoch 19/100\n",
      "735/735 [==============================] - 4s 6ms/step - loss: 0.0040\n",
      "Epoch 20/100\n",
      "735/735 [==============================] - 4s 5ms/step - loss: 0.0043\n",
      "Epoch 21/100\n",
      "735/735 [==============================] - 4s 6ms/step - loss: 0.0041\n",
      "Epoch 22/100\n",
      "735/735 [==============================] - 4s 6ms/step - loss: 0.0036\n",
      "Epoch 23/100\n",
      "735/735 [==============================] - 4s 6ms/step - loss: 0.0036\n",
      "Epoch 24/100\n",
      "735/735 [==============================] - 4s 5ms/step - loss: 0.0040\n",
      "Epoch 25/100\n",
      "735/735 [==============================] - 4s 5ms/step - loss: 0.0036\n",
      "Epoch 26/100\n",
      "735/735 [==============================] - 4s 6ms/step - loss: 0.0030\n",
      "Epoch 27/100\n",
      "735/735 [==============================] - 4s 5ms/step - loss: 0.0035\n",
      "Epoch 28/100\n",
      "735/735 [==============================] - 4s 6ms/step - loss: 0.0035\n",
      "Epoch 29/100\n",
      "735/735 [==============================] - 4s 6ms/step - loss: 0.0028\n",
      "Epoch 30/100\n",
      "735/735 [==============================] - 4s 6ms/step - loss: 0.0032\n",
      "Epoch 31/100\n",
      "735/735 [==============================] - 4s 6ms/step - loss: 0.0036\n",
      "Epoch 32/100\n",
      "735/735 [==============================] - 4s 6ms/step - loss: 0.0034\n",
      "Epoch 33/100\n",
      "735/735 [==============================] - 4s 6ms/step - loss: 0.0034\n",
      "Epoch 34/100\n",
      "735/735 [==============================] - 4s 6ms/step - loss: 0.0033\n",
      "Epoch 35/100\n",
      "735/735 [==============================] - 4s 6ms/step - loss: 0.0032\n",
      "Epoch 36/100\n",
      "735/735 [==============================] - 4s 6ms/step - loss: 0.0035\n",
      "Epoch 37/100\n",
      "735/735 [==============================] - 4s 6ms/step - loss: 0.0033\n",
      "Epoch 38/100\n",
      "735/735 [==============================] - 4s 5ms/step - loss: 0.0037\n",
      "Epoch 39/100\n",
      "735/735 [==============================] - 4s 5ms/step - loss: 0.0030\n",
      "Epoch 40/100\n",
      "735/735 [==============================] - 4s 6ms/step - loss: 0.0030\n",
      "Epoch 41/100\n",
      "735/735 [==============================] - 4s 6ms/step - loss: 0.0028\n",
      "Epoch 42/100\n",
      "735/735 [==============================] - 4s 6ms/step - loss: 0.0027\n",
      "Epoch 43/100\n",
      "735/735 [==============================] - 4s 6ms/step - loss: 0.0029\n",
      "Epoch 44/100\n",
      "735/735 [==============================] - 4s 5ms/step - loss: 0.0027\n",
      "Epoch 45/100\n",
      "735/735 [==============================] - 4s 6ms/step - loss: 0.0026\n",
      "Epoch 46/100\n",
      "735/735 [==============================] - 4s 6ms/step - loss: 0.0027\n",
      "Epoch 47/100\n",
      "735/735 [==============================] - 4s 6ms/step - loss: 0.0025\n",
      "Epoch 48/100\n",
      "735/735 [==============================] - 4s 6ms/step - loss: 0.0027\n",
      "Epoch 49/100\n",
      "735/735 [==============================] - 4s 6ms/step - loss: 0.0027\n",
      "Epoch 50/100\n",
      "735/735 [==============================] - 4s 6ms/step - loss: 0.0025\n",
      "Epoch 51/100\n",
      "735/735 [==============================] - 4s 5ms/step - loss: 0.0026\n",
      "Epoch 52/100\n",
      "735/735 [==============================] - 4s 5ms/step - loss: 0.0030\n",
      "Epoch 53/100\n",
      "735/735 [==============================] - 4s 6ms/step - loss: 0.0028\n",
      "Epoch 54/100\n",
      "735/735 [==============================] - 4s 6ms/step - loss: 0.0029\n",
      "Epoch 55/100\n",
      "735/735 [==============================] - 4s 5ms/step - loss: 0.0028\n",
      "Epoch 56/100\n",
      "735/735 [==============================] - 4s 6ms/step - loss: 0.0028\n",
      "Epoch 57/100\n",
      "735/735 [==============================] - 4s 6ms/step - loss: 0.0028\n",
      "Epoch 58/100\n",
      "735/735 [==============================] - 4s 6ms/step - loss: 0.0032\n",
      "Epoch 59/100\n",
      "735/735 [==============================] - 4s 6ms/step - loss: 0.0024\n",
      "Epoch 60/100\n",
      "735/735 [==============================] - 4s 5ms/step - loss: 0.0024\n",
      "Epoch 61/100\n",
      "735/735 [==============================] - 4s 6ms/step - loss: 0.0025\n",
      "Epoch 62/100\n",
      "735/735 [==============================] - 4s 6ms/step - loss: 0.0023\n",
      "Epoch 63/100\n",
      "735/735 [==============================] - 4s 6ms/step - loss: 0.0023\n",
      "Epoch 64/100\n",
      "735/735 [==============================] - 4s 6ms/step - loss: 0.0023\n",
      "Epoch 65/100\n",
      "735/735 [==============================] - 4s 6ms/step - loss: 0.0025\n",
      "Epoch 66/100\n",
      "735/735 [==============================] - 4s 6ms/step - loss: 0.0025\n",
      "Epoch 67/100\n",
      "735/735 [==============================] - 4s 5ms/step - loss: 0.0024\n",
      "Epoch 68/100\n",
      "735/735 [==============================] - 4s 6ms/step - loss: 0.0019\n",
      "Epoch 69/100\n",
      "735/735 [==============================] - 4s 6ms/step - loss: 0.0020\n",
      "Epoch 70/100\n",
      "735/735 [==============================] - 4s 6ms/step - loss: 0.0020\n",
      "Epoch 71/100\n",
      "735/735 [==============================] - 4s 5ms/step - loss: 0.0020\n",
      "Epoch 72/100\n",
      "735/735 [==============================] - 4s 6ms/step - loss: 0.0020\n",
      "Epoch 73/100\n",
      "735/735 [==============================] - 4s 6ms/step - loss: 0.0019\n",
      "Epoch 74/100\n",
      "735/735 [==============================] - 4s 6ms/step - loss: 0.0022\n",
      "Epoch 75/100\n",
      "735/735 [==============================] - 4s 6ms/step - loss: 0.0020\n",
      "Epoch 76/100\n",
      "735/735 [==============================] - 4s 6ms/step - loss: 0.0021\n",
      "Epoch 77/100\n",
      "735/735 [==============================] - 4s 6ms/step - loss: 0.0019\n",
      "Epoch 78/100\n",
      "735/735 [==============================] - 4s 6ms/step - loss: 0.0020\n",
      "Epoch 79/100\n",
      "735/735 [==============================] - 4s 6ms/step - loss: 0.0017\n",
      "Epoch 80/100\n",
      "735/735 [==============================] - 4s 6ms/step - loss: 0.0016\n",
      "Epoch 81/100\n",
      "735/735 [==============================] - 4s 6ms/step - loss: 0.0021\n",
      "Epoch 82/100\n",
      "735/735 [==============================] - 4s 6ms/step - loss: 0.0022\n",
      "Epoch 83/100\n",
      "735/735 [==============================] - 4s 5ms/step - loss: 0.0021\n",
      "Epoch 84/100\n",
      "735/735 [==============================] - 4s 6ms/step - loss: 0.0017\n",
      "Epoch 85/100\n",
      "735/735 [==============================] - 4s 6ms/step - loss: 0.0018\n",
      "Epoch 86/100\n",
      "735/735 [==============================] - 4s 6ms/step - loss: 0.0016\n",
      "Epoch 87/100\n",
      "735/735 [==============================] - 4s 6ms/step - loss: 0.0017\n",
      "Epoch 88/100\n",
      "735/735 [==============================] - 4s 5ms/step - loss: 0.0018\n",
      "Epoch 89/100\n",
      "735/735 [==============================] - 4s 6ms/step - loss: 0.0017\n",
      "Epoch 90/100\n",
      "735/735 [==============================] - 4s 6ms/step - loss: 0.0017\n",
      "Epoch 91/100\n",
      "735/735 [==============================] - 4s 6ms/step - loss: 0.0018\n",
      "Epoch 92/100\n",
      "735/735 [==============================] - 4s 6ms/step - loss: 0.0015\n",
      "Epoch 93/100\n",
      "735/735 [==============================] - 4s 6ms/step - loss: 0.0015\n",
      "Epoch 94/100\n",
      "735/735 [==============================] - 4s 6ms/step - loss: 0.0016\n",
      "Epoch 95/100\n",
      "735/735 [==============================] - 4s 6ms/step - loss: 0.0018\n",
      "Epoch 96/100\n",
      "735/735 [==============================] - 4s 5ms/step - loss: 0.0017\n",
      "Epoch 97/100\n",
      "735/735 [==============================] - 4s 5ms/step - loss: 0.0017\n",
      "Epoch 98/100\n",
      "735/735 [==============================] - 4s 6ms/step - loss: 0.0016\n",
      "Epoch 99/100\n"
     ]
    },
    {
     "name": "stdout",
     "output_type": "stream",
     "text": [
      "735/735 [==============================] - 4s 6ms/step - loss: 0.0016\n",
      "Epoch 100/100\n",
      "735/735 [==============================] - 4s 6ms/step - loss: 0.0017\n"
     ]
    },
    {
     "data": {
      "text/plain": [
       "<keras.callbacks.History at 0x1a2fb610f0>"
      ]
     },
     "execution_count": 110,
     "metadata": {},
     "output_type": "execute_result"
    }
   ],
   "source": [
    "# Part 2 - Building the RNN\n",
    "\n",
    "# Importing the Keras libraries and packages\n",
    "from keras.models import Sequential\n",
    "from keras.layers import Dense\n",
    "from keras.layers import LSTM\n",
    "from keras.layers import Dropout\n",
    "\n",
    "# Initialising the RNN\n",
    "regressor = Sequential()\n",
    "\n",
    "# Adding the first LSTM layer and some Dropout regularisation\n",
    "regressor.add(LSTM(units = 50, return_sequences = True, input_shape = (X_train.shape[1], 1)))\n",
    "regressor.add(Dropout(0.2))\n",
    "\n",
    "# Adding a second LSTM layer and some Dropout regularisation\n",
    "regressor.add(LSTM(units = 50, return_sequences = True))\n",
    "regressor.add(Dropout(0.2))\n",
    "\n",
    "# Adding a third LSTM layer and some Dropout regularisation\n",
    "regressor.add(LSTM(units = 50, return_sequences = True))\n",
    "regressor.add(Dropout(0.2))\n",
    "\n",
    "# Adding a fourth LSTM layer and some Dropout regularisation\n",
    "regressor.add(LSTM(units = 50))\n",
    "regressor.add(Dropout(0.2))\n",
    "\n",
    "# Adding the output layer\n",
    "regressor.add(Dense(units = 1))\n",
    "\n",
    "# Compiling the RNN\n",
    "regressor.compile(optimizer = 'adam', loss = 'mean_squared_error')\n",
    "\n",
    "# Fitting the RNN to the Training set\n",
    "regressor.fit(X_train, y_train, epochs = 100, batch_size = 32)\n",
    "\n"
   ]
  },
  {
   "cell_type": "code",
   "execution_count": 111,
   "metadata": {},
   "outputs": [],
   "source": [
    "#import quandl\n",
    "#quandl.ApiConfig.api_key = 'ik6y9JyGpmnDBkJjiF2Y'\n",
    "\n",
    "# get the table for daily stock prices and,\n",
    "# filter the table for selected tickers, columns within a time range\n",
    "# set paginate to True because Quandl limits tables API to 10,000 rows per call\n",
    "#data_test = quandl.get_table('WIKI/PRICES', ticker = ['GOOGL'], \n",
    "                       # qopts = { 'columns': ['ticker', 'date', 'adj_close'] }, \n",
    "                       # date = { 'gte': '2017-11-13', 'lte': '2017-12-13' }, \n",
    "                        #paginate=True)\n",
    "#data_test = data.sort_values(by='date', ascending=True)\n",
    "#dataset_test = data_test "
   ]
  },
  {
   "cell_type": "code",
   "execution_count": 112,
   "metadata": {},
   "outputs": [],
   "source": [
    "test_num = dataset_test.shape[0]"
   ]
  },
  {
   "cell_type": "code",
   "execution_count": 113,
   "metadata": {},
   "outputs": [],
   "source": [
    "# Part 3 - Making the predictions and visualising the results\n",
    "\n",
    "# Getting the real stock price of 2017\n",
    "#dataset_test = pd.read_csv('Google_Stock_Price_Test.csv')\n",
    "real_stock_price = dataset_test['adj_close'].values\n",
    "\n",
    "# Getting the predicted stock price of 2017\n",
    "dataset_total = pd.concat((dataset_train['adj_close'], dataset_test['adj_close']), axis = 0)\n",
    "inputs = dataset_total[len(dataset_total) - len(dataset_test) - 60:].values\n",
    "inputs = inputs.reshape(-1,1)\n",
    "inputs = sc.transform(inputs)\n",
    "X_test = []\n",
    "for i in range(60, test_num +60):\n",
    "    X_test.append(inputs[i-60:i, 0])\n",
    "X_test = np.array(X_test)\n",
    "X_test = np.reshape(X_test, (X_test.shape[0], X_test.shape[1], 1))\n",
    "predicted_stock_price = regressor.predict(X_test)\n",
    "predicted_stock_price = sc.inverse_transform(predicted_stock_price)\n"
   ]
  },
  {
   "cell_type": "code",
   "execution_count": 114,
   "metadata": {},
   "outputs": [
    {
     "data": {
      "text/plain": [
       "(15, 3)"
      ]
     },
     "execution_count": 114,
     "metadata": {},
     "output_type": "execute_result"
    }
   ],
   "source": [
    "dataset_test.shape"
   ]
  },
  {
   "cell_type": "code",
   "execution_count": 115,
   "metadata": {},
   "outputs": [
    {
     "data": {
      "text/plain": [
       "(15, 1)"
      ]
     },
     "execution_count": 115,
     "metadata": {},
     "output_type": "execute_result"
    }
   ],
   "source": [
    "predicted_stock_price.shape"
   ]
  },
  {
   "cell_type": "code",
   "execution_count": 119,
   "metadata": {},
   "outputs": [
    {
     "data": {
      "image/png": "[encoded data removed]",
      "text/plain": [
       "<Figure size 1440x720 with 1 Axes>"
      ]
     },
     "metadata": {
      "needs_background": "light"
     },
     "output_type": "display_data"
    }
   ],
   "source": [
    "# Visualising the results\n",
    "plt.figure(figsize=(20,10))\n",
    "plt.plot(real_stock_price, color = 'red', label = 'Real Google Stock Price')\n",
    "plt.plot(predicted_stock_price, color = 'blue', label = 'Predicted Google Stock Price')\n",
    "plt.title('Google Stock Price Prediction RNN')\n",
    "plt.xlabel('Time')\n",
    "plt.ylabel('Google Stock Price')\n",
    "plt.legend()\n",
    "plt.show()"
   ]
  },
  {
   "cell_type": "code",
   "execution_count": 117,
   "metadata": {},
   "outputs": [],
   "source": [
    "####### lstm is used to observe the direction, no use for calculate mse \n",
    "## good job deal with smooth change, \n",
    "## can react fast to non linear change . "
   ]
  },
  {
   "cell_type": "code",
   "execution_count": null,
   "metadata": {},
   "outputs": [],
   "source": []
  },
  {
   "cell_type": "code",
   "execution_count": null,
   "metadata": {},
   "outputs": [],
   "source": []
  },
  {
   "cell_type": "code",
   "execution_count": null,
   "metadata": {},
   "outputs": [],
   "source": []
  },
  {
   "cell_type": "code",
   "execution_count": null,
   "metadata": {},
   "outputs": [],
   "source": []
  },
  {
   "cell_type": "code",
   "execution_count": null,
   "metadata": {},
   "outputs": [],
   "source": []
  }
 ],
 "metadata": {
  "kernelspec": {
   "display_name": "Python 3",
   "language": "python",
   "name": "python3"
  },
  "language_info": {
   "codemirror_mode": {
    "name": "ipython",
    "version": 3
   },
   "file_extension": ".py",
   "mimetype": "text/x-python",
   "name": "python",
   "nbconvert_exporter": "python",
   "pygments_lexer": "ipython3",
   "version": "3.6.6"
  }
 },
 "nbformat": 4,
 "nbformat_minor": 2
}
